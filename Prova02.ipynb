{
 "cells": [
  {
   "cell_type": "code",
   "execution_count": 11,
   "id": "68888ea8-f2ac-411d-aeff-7cd51406409c",
   "metadata": {},
   "outputs": [
    {
     "name": "stdout",
     "output_type": "stream",
     "text": [
      "A média de consumo diário de energia da empresa foi de: 51.36666666666667 kWh no último mês\n",
      "A média de consumo diário de energia da empresa foi de: 51.37 kWh no último mês\n"
     ]
    }
   ],
   "source": [
    "# Lista de consumo diário fornecida\n",
    "consumo_diario = [50, 45, 55, 60, 48, 52, 47, 49, 53, 51, 50, 46, 54, 61, 49, 53, 48, 50, 52, 47, 56, 50, 55, 60, 48, 52, 47, 49, 53, 51]\n",
    "import math\n",
    "#Criando a função\n",
    "def calcular_media_consumo(consumo_diario):\n",
    "    total_consumo = sum(consumo_diario)\n",
    "    media= total_consumo / len(consumo_diario)\n",
    "    return media\n",
    "#Calculando média de consumo usando a função\n",
    "media_consumo_diario = calcular_media_consumo(consumo_diario)\n",
    "#Apresentando o valor\n",
    "print(f\"A média de consumo diário de energia da empresa foi de: {media_consumo_diario} kWh no último mês\")\n",
    "print(f\"A média de consumo diário de energia da empresa foi de: {media_consumo_diario:.2f} kWh no último mês\")"
   ]
  }
 ],
 "metadata": {
  "kernelspec": {
   "display_name": "Python [conda env:base] *",
   "language": "python",
   "name": "conda-base-py"
  },
  "language_info": {
   "codemirror_mode": {
    "name": "ipython",
    "version": 3
   },
   "file_extension": ".py",
   "mimetype": "text/x-python",
   "name": "python",
   "nbconvert_exporter": "python",
   "pygments_lexer": "ipython3",
   "version": "3.12.7"
  }
 },
 "nbformat": 4,
 "nbformat_minor": 5
}
